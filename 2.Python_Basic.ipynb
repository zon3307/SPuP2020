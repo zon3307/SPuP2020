{
 "cells": [
  {
   "cell_type": "markdown",
   "metadata": {},
   "source": [
    "# 2. Python의 기본"
   ]
  },
  {
   "cell_type": "markdown",
   "metadata": {},
   "source": [
    "### Python 프로그램\n",
    "\n",
    "* Python 프로그램의 소스 코드는 일련의 정의와 명령문으로 구성된다.\n",
    "\n",
    "* Python 프로그램이나 소스 코드는 스크립트(script)라고도 불림.\n",
    "\n",
    "* 프로그램을 작성하는 사람이 command 혹은 statement라고 불리는 문장들을 작성하여, 이 문장들을 통해 Python 인터프리터가 프로그램 작성자의 목적에 맞는 일을 하도록 지시한다.\n",
    "\n",
    "* 다음은 print 문장을 이용한 간단한 프로그램이다.\n",
    "\n",
    " * In [1]: 의 오른쪽의 내용이 우리가 작성하는 프로그램의 내용이며 그 다음 줄의 내용이 프로그램의 실행 결과이다.\n",
    " \n",
    "* 이 자료는 Python 3.6을 기준으로 작성되었다."
   ]
  },
  {
   "cell_type": "code",
   "execution_count": 1,
   "metadata": {},
   "outputs": [
    {
     "name": "stdout",
     "output_type": "stream",
     "text": [
      "This is my first Python program.\n"
     ]
    }
   ],
   "source": [
    "print('This is my first Python program.')"
   ]
  },
  {
   "cell_type": "markdown",
   "metadata": {},
   "source": [
    "\n",
    "번외 : 만약 Spyder를 이용 중이라면, Spyder 오른쪽 하단의 IPython Console을 이용하여 위의 문장을 실행시켜 보자.\n",
    "Spyder는 Anaconda 배포판을 통해 설치할 수 있는 Python 개발 환경이다.\n",
    "아래 그림의 In [1]: 오른쪽 부분에 print 'This is my first Python program.' 를 입력하고 엔터를 입력한다.\n",
    "\n",
    "<img src=\"./figure/console.png\" width=\"500\">"
   ]
  },
  {
   "cell_type": "markdown",
   "metadata": {},
   "source": [
    "### 데이터 타입\n",
    "\n",
    "프로그래밍에 사용되는 데이터들은 데이터 타입(데이터 형)을 구분한다.\n",
    "\n",
    "Python에는 크게 세 가지 데이터 타입이 존재\n",
    "* 숫자형\n",
    "  * 5, 10.3, -2, -1.02\n",
    "  * 사칙연산 등을 수행할 수 있음\n",
    "  * 숫자형 데이터는 다시 정수형과 실수형으로 구분할 수 있다.\n",
    "* 문자열\n",
    "  * \"apple\", \"Hello, world!\", 'Yeungnam University', \"15\"\n",
    "  * 큰 따옴표나 작은 따옴표로 표현\n",
    "* 부울(Bool)\n",
    "  * True, False\n"
   ]
  },
  {
   "cell_type": "markdown",
   "metadata": {},
   "source": [
    "### 수치와 연산\n",
    "\n",
    "* 숫자형 데이터에는 사칙연산이나 나머지, 제곱 등의 연산을 적용할 수 있다.\n",
    "* IPython 콘솔은 마치 계산기처럼 이용 가능하다.\n"
   ]
  },
  {
   "cell_type": "code",
   "execution_count": 2,
   "metadata": {},
   "outputs": [
    {
     "data": {
      "text/plain": [
       "7"
      ]
     },
     "execution_count": 2,
     "metadata": {},
     "output_type": "execute_result"
    }
   ],
   "source": [
    "3 + 4"
   ]
  },
  {
   "cell_type": "code",
   "execution_count": 3,
   "metadata": {},
   "outputs": [
    {
     "data": {
      "text/plain": [
       "-1"
      ]
     },
     "execution_count": 3,
     "metadata": {},
     "output_type": "execute_result"
    }
   ],
   "source": [
    "3 - 4"
   ]
  },
  {
   "cell_type": "code",
   "execution_count": 4,
   "metadata": {},
   "outputs": [
    {
     "data": {
      "text/plain": [
       "12"
      ]
     },
     "execution_count": 4,
     "metadata": {},
     "output_type": "execute_result"
    }
   ],
   "source": [
    "3 * 4"
   ]
  },
  {
   "cell_type": "markdown",
   "metadata": {},
   "source": [
    "* Python 2.x에서는 정수끼리 나누기 연산의 결과는 정수로 나타난다. 소수점 아래의 숫자는 버린다.\n",
    "* 3/4 -> 0\n",
    "* 나누기를 통하여 실수 결과를 얻고자 할 때는 연산되는 수를 실수형으로 먼저 바꾼 후 진행한다.\n",
    "* 3/4.0 혹은 3.0/4"
   ]
  },
  {
   "cell_type": "markdown",
   "metadata": {},
   "source": [
    "Python 3.x에서는 정수끼리 나누기 연산의 결과는 실수로 나타난다."
   ]
  },
  {
   "cell_type": "code",
   "execution_count": 5,
   "metadata": {},
   "outputs": [
    {
     "data": {
      "text/plain": [
       "0.75"
      ]
     },
     "execution_count": 5,
     "metadata": {},
     "output_type": "execute_result"
    }
   ],
   "source": [
    "3 / 4"
   ]
  },
  {
   "cell_type": "markdown",
   "metadata": {},
   "source": [
    "만약 나누기의 정수 부분만 나타내려면 다음을 이용한다."
   ]
  },
  {
   "cell_type": "code",
   "execution_count": 6,
   "metadata": {},
   "outputs": [
    {
     "data": {
      "text/plain": [
       "2"
      ]
     },
     "execution_count": 6,
     "metadata": {},
     "output_type": "execute_result"
    }
   ],
   "source": [
    "7 // 3"
   ]
  },
  {
   "cell_type": "markdown",
   "metadata": {},
   "source": [
    "다음은 나머지 연산을 수행한다."
   ]
  },
  {
   "cell_type": "code",
   "execution_count": 7,
   "metadata": {},
   "outputs": [
    {
     "data": {
      "text/plain": [
       "1"
      ]
     },
     "execution_count": 7,
     "metadata": {},
     "output_type": "execute_result"
    }
   ],
   "source": [
    "5 % 2"
   ]
  },
  {
   "cell_type": "markdown",
   "metadata": {},
   "source": [
    "제곱이나 거듭제곱은 ```**```를 이용한다. 다른 프로그램 언어에서는 제곱을 표현할 때 ```^```를 사용하는 경우가 많으므로, 혼돈하지 않도록 주의한다."
   ]
  },
  {
   "cell_type": "code",
   "execution_count": 8,
   "metadata": {},
   "outputs": [
    {
     "data": {
      "text/plain": [
       "25"
      ]
     },
     "execution_count": 8,
     "metadata": {},
     "output_type": "execute_result"
    }
   ],
   "source": [
    "5 ** 2"
   ]
  },
  {
   "cell_type": "code",
   "execution_count": 9,
   "metadata": {},
   "outputs": [
    {
     "data": {
      "text/plain": [
       "8"
      ]
     },
     "execution_count": 9,
     "metadata": {},
     "output_type": "execute_result"
    }
   ],
   "source": [
    "2 ** 3"
   ]
  },
  {
   "cell_type": "markdown",
   "metadata": {},
   "source": [
    "복잡한 연산의 순서는 기본적인 수학 규칙을 따른다."
   ]
  },
  {
   "cell_type": "code",
   "execution_count": 10,
   "metadata": {},
   "outputs": [
    {
     "data": {
      "text/plain": [
       "6"
      ]
     },
     "execution_count": 10,
     "metadata": {},
     "output_type": "execute_result"
    }
   ],
   "source": [
    "2 + 2 * 2"
   ]
  },
  {
   "cell_type": "code",
   "execution_count": 11,
   "metadata": {},
   "outputs": [
    {
     "data": {
      "text/plain": [
       "-8"
      ]
     },
     "execution_count": 11,
     "metadata": {},
     "output_type": "execute_result"
    }
   ],
   "source": [
    "(3 - 5) * (6 + (2 - 4))"
   ]
  },
  {
   "cell_type": "markdown",
   "metadata": {
    "collapsed": true
   },
   "source": [
    "### 변수\n",
    "\n",
    "* 변수는 값을 나타내는 기호 또는 이름을 말한다.\n",
    "  * 변수는 컴퓨터 프로그래밍의 가장 기본적인 구성요소로 반드시 잘 이해해 두어야 한다.\n",
    "  * 프로그램을 처음 시작하는 경우, 변수를 왜 사용해야 하는지 이해하기 힘든 경우도 있으니, 주의깊게 아래 내용을 살펴보자.\n",
    "  \n",
    "* 계산을 하다보면 특정 변수를 생성하여 값을 지정하고 변수를 통하여 수식을 계산하는 것이 더 편리할 경우가 많다.\n",
    "  * 수학 문제를 풀 때, x나 y와 같은 변수 기호를 이용하여, 문제를 더 간결하게 표현하는 것과 비슷한 원리이다.\n",
    "  "
   ]
  },
  {
   "cell_type": "markdown",
   "metadata": {},
   "source": [
    "#### 변수 생성의 기본 방법\n",
    "\n",
    "* 수학에서 x=10과 같이 변수와 그 값을 지정하듯이 Python에서도 등호(```=```)를 이용하여 변수의 값을 지정한다.  \n",
    "\n",
    "* 변수의 이름, 변수명은 기본적인 규칙을 지키는 선에서 마음대로 지어주면 된다. \n",
    "   * 이 규칙에 대해서는 잠시 후에 살펴본다.\n",
    "* 대입 연산에서는 반드시 왼쪽에 변수명이 등장한다."
   ]
  },
  {
   "cell_type": "markdown",
   "metadata": {},
   "source": [
    "정수형 변수 지정\n",
    " * 다음을 'my_integer는 10과 같다'고 해석을 해서는 안 된다. 'my_integer에 10을 대입한다'와 같이 해석한다."
   ]
  },
  {
   "cell_type": "code",
   "execution_count": 12,
   "metadata": {},
   "outputs": [],
   "source": [
    "my_integer = 10"
   ]
  },
  {
   "cell_type": "markdown",
   "metadata": {},
   "source": [
    "실수형 변수 지정"
   ]
  },
  {
   "cell_type": "code",
   "execution_count": 13,
   "metadata": {},
   "outputs": [],
   "source": [
    "my_number = 5.2"
   ]
  },
  {
   "cell_type": "markdown",
   "metadata": {},
   "source": [
    "문자열 변수 지정"
   ]
  },
  {
   "cell_type": "code",
   "execution_count": 14,
   "metadata": {},
   "outputs": [],
   "source": [
    "my_string = \"Statistics\""
   ]
  },
  {
   "cell_type": "markdown",
   "metadata": {},
   "source": [
    "부울형 변수 지정"
   ]
  },
  {
   "cell_type": "code",
   "execution_count": 15,
   "metadata": {},
   "outputs": [],
   "source": [
    "my_bool = True"
   ]
  },
  {
   "cell_type": "markdown",
   "metadata": {},
   "source": [
    "번외 : 만약 Spyder를 이용 중이라면 Variable explorer를 이용하여 입력한 변수의 내용을 확인할 수 있다."
   ]
  },
  {
   "cell_type": "markdown",
   "metadata": {},
   "source": [
    "<img src=\"./figure/variable.png\" width=\"600\">"
   ]
  },
  {
   "cell_type": "markdown",
   "metadata": {},
   "source": [
    "위의 예제들처럼 대입 연산의 오른쪽에는 상수값이 오거나, 다음의 예제들처럼 기존의 변수 혹은 기존의 변수를 이용한 식 등이 올 수 있다."
   ]
  },
  {
   "cell_type": "code",
   "execution_count": 16,
   "metadata": {},
   "outputs": [],
   "source": [
    "my_second_integer = my_integer + 1"
   ]
  },
  {
   "cell_type": "code",
   "execution_count": 17,
   "metadata": {},
   "outputs": [],
   "source": [
    "width = 10\n",
    "height = 13\n",
    "rectangle_area = width * height"
   ]
  },
  {
   "cell_type": "markdown",
   "metadata": {},
   "source": [
    "### 변수와 객체\n",
    "* Python에 존재하는 거의 모든 것들은 객체(object)라는 형태로 존재한다.\n",
    "  * 숫자, 문자열, 리스트, dictionary 등이 있으며, 이 과목을 통해 자세히 살펴볼 것이다.\n",
    "* 변수는 이러한 객체들에 이름을 붙여, 추후에 참조하여 더 복잡한 연산에 사용할 수 있도록 하는 역할을 한다.\n",
    "  * 객체는 데이터의 실질적인 존재, 변수 혹은 변수명은 그 존재를 지칭하는 이름이라고 생각하자."
   ]
  },
  {
   "cell_type": "markdown",
   "metadata": {},
   "source": [
    "<img src=\"./figure/variable_obejct.png\" width=\"400\">"
   ]
  },
  {
   "cell_type": "markdown",
   "metadata": {},
   "source": [
    "### 변수명 규칙\n",
    "\n",
    "* Python 변수명은 문자나 _로 시작\n",
    "  * ```_the_string```\n",
    "  * ```my_variable```\n",
    "* 첫 글자가 아닌 나머지 부분은 문자, 숫자, _가 올 수 있음\n",
    "  * ```password1```\n",
    "  * ```n00b```\n",
    "  * ```un_der_score```\n",
    "* 대소문자 구별 : ```X```와 ```x```는 서로 다른 변수\n",
    "\n",
    "* 변수명을 짓는 방법\n",
    " * 알아보기 쉽게 짓는다.\n",
    "   * ```apartmentname``` -> ```apartment_name``` 혹은 ```apartmentName```\n",
    " * 무슨 변수를 나타내는지 알아보도록 짓는다.\n",
    "   * ```afmowpv``` : 아무 의미 없어 보이며 이렇게 짓지 않음\n",
    "   * ```average_num_students``` : 변수명이 다소 긴 것처럼 느껴지지만, 학생 수의 평균을 의미하는 변수 임을 추측할 수 있음\n"
   ]
  },
  {
   "cell_type": "markdown",
   "metadata": {},
   "source": [
    "### 변수 지정에 있어 Python의 특징\n",
    "\n",
    "* 많은 다른 프로그래밍 언어의 경우 변수형을 따로 선언해 주어야 함. 예를 들어, C언어 등의 경우\n",
    "  * int n = 10\n",
    "    * 정수(integer)형 변수\n",
    "  * double x = 2.12\n",
    "    * double precision을 가지는 실수형 변수\n",
    "  * char c = 'a'\n",
    "    * 문자(character)형 변수\n",
    "\n",
    "* Python은 int, double, char 등과 같은 변수형에 대한 키워드(keyword)를 따로 선언해 주지 않는다.\n",
    "  * 프로그래머는 변수형을 일일이 입력할 필요가 없으니 편리한 점이 있음\n"
   ]
  },
  {
   "cell_type": "markdown",
   "metadata": {},
   "source": [
    "#### Dynamic types\n",
    "\n",
    "* Python에서는 데이터 type을 따로 명시하는 것이 아니기 때문에, 프로그램 중간에 데이터 type이 바뀔 수 있다.\n",
    "  * x = 10  \n",
    "    …  \n",
    "    x = 'John'  \n",
    "    …  \n",
    "    x = True\n",
    "    \n",
    "    \n",
    "* 그러나, 하나의 변수가 한 프로그램 내에서 데이터 타입이 변하는 것은 바람직하지 않으며, 동일한 데이터 타입을 유지하도록 한다.\n",
    "\n",
    "* 반면 변수의 값은 계속 변할 수 있다.\n"
   ]
  },
  {
   "cell_type": "markdown",
   "metadata": {},
   "source": [
    "#### 변수값 재지정\n",
    "\n",
    "한 번 지정한 변수값을 얼마든지 새 변수값으로 바꿀 수 있음 \n"
   ]
  },
  {
   "cell_type": "code",
   "execution_count": 18,
   "metadata": {},
   "outputs": [],
   "source": [
    "a = 1\n",
    "a = 2\n",
    "a = 2.1\n",
    "b = \"Hi\"\n",
    "b = \"Hello\"\n",
    "c = True\n",
    "c = False "
   ]
  },
  {
   "cell_type": "markdown",
   "metadata": {},
   "source": [
    "다음의 예제에서는 ```area```의 값이 ```radius```의 값에 따라 바뀐다."
   ]
  },
  {
   "cell_type": "code",
   "execution_count": 2,
   "metadata": {},
   "outputs": [
    {
     "name": "stdout",
     "output_type": "stream",
     "text": [
      "363\n"
     ]
    }
   ],
   "source": [
    "pi = 3\n",
    "radius = 11\n",
    "area = pi * (radius ** 2)\n",
    "print(area)"
   ]
  },
  {
   "cell_type": "code",
   "execution_count": 3,
   "metadata": {},
   "outputs": [
    {
     "name": "stdout",
     "output_type": "stream",
     "text": [
      "432\n"
     ]
    }
   ],
   "source": [
    "radius = 12\n",
    "area = pi * (radius ** 2)\n",
    "print(area)"
   ]
  },
  {
   "cell_type": "markdown",
   "metadata": {
    "collapsed": true
   },
   "source": [
    "#### multiple assignment\n",
    "\n",
    "Python에서는 다음과 같이 여러 개의 변수에 여러 값들을 한 번에 지정할 수 있다.\n",
    "* 첫 라인에서는 ```x```에 2를, ```y```에 3을 대입하고,\n",
    "* 다음 라인에서 ```x```에 ```y```의 값인 3을, ```y```에 ```x```의 값인 2를 다시 재지정한다."
   ]
  },
  {
   "cell_type": "code",
   "execution_count": 20,
   "metadata": {},
   "outputs": [
    {
     "name": "stdout",
     "output_type": "stream",
     "text": [
      "x =  3\n",
      "y =  2\n"
     ]
    }
   ],
   "source": [
    "x, y = 2, 3\n",
    "x, y = y, x\n",
    "print('x = ', x)\n",
    "print('y = ', y)"
   ]
  },
  {
   "cell_type": "markdown",
   "metadata": {},
   "source": [
    "### 문자열(String) 출력해 보기\n",
    "\n",
    "프로그래밍의 가장 기본 예제를 연습해 보자. Python은 인터프리터 언어로서 매우 간단하게 Hello world 프로그램을 작성할 수 있다.\n",
    "* 이 때, ```print```라는 명령이 사용된다."
   ]
  },
  {
   "cell_type": "code",
   "execution_count": 21,
   "metadata": {},
   "outputs": [
    {
     "name": "stdout",
     "output_type": "stream",
     "text": [
      "Hello, w!\n"
     ]
    }
   ],
   "source": [
    "print(\"Hello, w!\")"
   ]
  },
  {
   "cell_type": "code",
   "execution_count": 22,
   "metadata": {},
   "outputs": [
    {
     "name": "stdout",
     "output_type": "stream",
     "text": [
      "Hello, world!\n"
     ]
    }
   ],
   "source": [
    "print('Hello, world!')"
   ]
  },
  {
   "cell_type": "markdown",
   "metadata": {},
   "source": [
    "따옴표로 둘러싸여 있는 부분은 문자열을 의미하며 print 명령을 통해 해당 문자열 - 여기서는 Hello, world! - 을 화면에 출력하라는 뜻이다.\n",
    "* 문자열을 생성할 때는 따옴표로 해당 문자열을 감싸준다.\n",
    "  * 큰 따옴표, 작은 따옴표 모두 가능\n",
    "\n",
    "* Python 2.x에서는 print 명령에 괄호 생략 가능\n",
    "* Python 3.0 이상에서는 print가 함수로 변경되었기 때문에, 반드시 괄호를 이용해야 한다.\n",
    "* https://docs.python.org/3/whatsnew/3.0.html#print-is-a-function"
   ]
  },
  {
   "cell_type": "code",
   "execution_count": 23,
   "metadata": {},
   "outputs": [
    {
     "ename": "SyntaxError",
     "evalue": "invalid syntax (<ipython-input-23-e9c3e45f13d7>, line 2)",
     "output_type": "error",
     "traceback": [
      "\u001b[1;36m  File \u001b[1;32m\"<ipython-input-23-e9c3e45f13d7>\"\u001b[1;36m, line \u001b[1;32m2\u001b[0m\n\u001b[1;33m    print(Hello, world!)\u001b[0m\n\u001b[1;37m                      ^\u001b[0m\n\u001b[1;31mSyntaxError\u001b[0m\u001b[1;31m:\u001b[0m invalid syntax\n"
     ]
    }
   ],
   "source": [
    "# 문자열 기호를 생략하면 당연히 에러가 발생하니 주의히자.\n",
    "print(Hello, world!)"
   ]
  },
  {
   "cell_type": "markdown",
   "metadata": {},
   "source": [
    "### 변수의 내용 출력하기\n",
    "\n",
    "문자열 뿐만 아니라, 변수의 내용, 즉, 변수가 지칭하는 객체(object)의 내용을 화면에 출력할 수 있다.\n",
    " * 이 때는 ```print``` 함수의 괄호 안에 원하는 변수명을 입력한다."
   ]
  },
  {
   "cell_type": "code",
   "execution_count": 24,
   "metadata": {},
   "outputs": [
    {
     "name": "stdout",
     "output_type": "stream",
     "text": [
      "130\n"
     ]
    }
   ],
   "source": [
    "width = 10\n",
    "height = 13\n",
    "rectangle_area = width * height\n",
    "print(rectangle_area)"
   ]
  },
  {
   "cell_type": "markdown",
   "metadata": {},
   "source": [
    "물론 앞에서 연습하였듯이, 변수 하나의 내용을 확인할 때는 굳이 ```print``` 함수를 사용하지 않아도 화면에 출력할 수 있다."
   ]
  },
  {
   "cell_type": "code",
   "execution_count": 25,
   "metadata": {},
   "outputs": [
    {
     "data": {
      "text/plain": [
       "130"
      ]
     },
     "execution_count": 25,
     "metadata": {},
     "output_type": "execute_result"
    }
   ],
   "source": [
    "rectangle_area"
   ]
  },
  {
   "cell_type": "markdown",
   "metadata": {},
   "source": [
    "Jupyter notebook에서 여러 변수를 한 번에 확인하고 싶을 때는 ```print``` 함수를 이용하는 것이 낫다."
   ]
  },
  {
   "cell_type": "code",
   "execution_count": 26,
   "metadata": {},
   "outputs": [
    {
     "name": "stdout",
     "output_type": "stream",
     "text": [
      "10\n",
      "13\n",
      "130\n"
     ]
    }
   ],
   "source": [
    "print(width)\n",
    "print(height)\n",
    "print(rectangle_area)"
   ]
  },
  {
   "cell_type": "markdown",
   "metadata": {},
   "source": [
    "```print```문을 생략한다면 마지막 변수의 내용만 확인할 수 있다. 따라서, 확실하게 화면에 프린트하고 싶은 경우라면 ```print``` 함수를 적극적으로 이용하는 것이 좋다."
   ]
  },
  {
   "cell_type": "code",
   "execution_count": 27,
   "metadata": {},
   "outputs": [
    {
     "data": {
      "text/plain": [
       "130"
      ]
     },
     "execution_count": 27,
     "metadata": {},
     "output_type": "execute_result"
    }
   ],
   "source": [
    "width\n",
    "height\n",
    "rectangle_area"
   ]
  },
  {
   "cell_type": "markdown",
   "metadata": {},
   "source": [
    "그 외에, 보다 자세히 알아보자면, ```print(variable)```은 ```print(str(variable))```와 동치이고, 단순히 ```variable```을 입력하는 것은 ```print(repr(variable))```와 동치이다. "
   ]
  },
  {
   "cell_type": "markdown",
   "metadata": {},
   "source": [
    "### 문자열 입력 받기\n",
    "\n",
    "```input()``` 함수를 사용하여 콘솔로부터 문자열을 입력 받을 수 있음\n",
    "\n",
    "* python 2.x에서는 ```raw_input()``` 함수를 이용한다.\n",
    "\n",
    "아래 예제는 간단해 보이지만, 처음 겪는 사람은 다소 헷갈리 수 있다.\n",
    "\n",
    "아래의 명령을 실행하면, 키보드 입력을 기다리는 화면이 나타난다.\n",
    "* 자유롭게 타이핑을 하여 결과를 확인해 보자."
   ]
  },
  {
   "cell_type": "code",
   "execution_count": 28,
   "metadata": {},
   "outputs": [
    {
     "name": "stdout",
     "output_type": "stream",
     "text": [
      "Input any string : ABCD EFG HIJK LMNOP\n"
     ]
    }
   ],
   "source": [
    "input_string = input(\"Input any string : \")"
   ]
  },
  {
   "cell_type": "markdown",
   "metadata": {},
   "source": [
    "* 위 코드에서 ```\"Input any string : \"``` 부분은 콘솔 창에 다시 한 번 나타나는 부분으로 원하는 대로 바꾸어 쓸 수 있음\n",
    "  * 입력할 문자열에 대한 적당한 설명을 작성하는 곳이라고 이해하면 좋다.\n",
    "  * 프로그래머가 문자열을 입력 받는 목적을 입력하는 사람에게 설명할 수 있는 부분이라고 생각하자.\n",
    "\n",
    "* 콘솔에서 입력받은 문자열은 대입 연산자(=) 왼쪽의 변수 이름으로 저장된다.\n",
    "  * 위 예제에서는 \"ABCD EFG HIJK LMNOP\"라는 문자열을 임의로 입력하였다.\n",
    "  * 입력 받는 변수 이름은 ```input_string```\n",
    "\n",
    "* ```print``` 명령을 이용하여 ```input_string``` 저장된 내용을 다시 출력해 보자.\n",
    "  * 임의로 입력한 \"ABCD EFG HIJK LMNOP\"가 다시 출력됨을 알 수 있다."
   ]
  },
  {
   "cell_type": "markdown",
   "metadata": {},
   "source": [
    "<img src=\"./figure/input.png\" width=\"450\">"
   ]
  },
  {
   "cell_type": "code",
   "execution_count": 29,
   "metadata": {},
   "outputs": [
    {
     "name": "stdout",
     "output_type": "stream",
     "text": [
      "ABCD EFG HIJK LMNOP\n"
     ]
    }
   ],
   "source": [
    "print(input_string)"
   ]
  },
  {
   "cell_type": "markdown",
   "metadata": {},
   "source": [
    "다시 한 번 연습해 보자.\n",
    " * 아래 예제에서는 \"Kyungsub Lee\"라는 이름을 입력하여 ```name```이라는 변수에 전달할 수 있도록 하였다."
   ]
  },
  {
   "cell_type": "code",
   "execution_count": 30,
   "metadata": {},
   "outputs": [
    {
     "name": "stdout",
     "output_type": "stream",
     "text": [
      "Please input your name correctly : Kyungsub Lee\n"
     ]
    }
   ],
   "source": [
    "name = input(\"Please input your name correctly : \")"
   ]
  },
  {
   "cell_type": "markdown",
   "metadata": {},
   "source": [
    "```name```의 내용을 다시 출력하여, 입력이 성공적으로 진행되었는지 확인하자."
   ]
  },
  {
   "cell_type": "code",
   "execution_count": 31,
   "metadata": {},
   "outputs": [
    {
     "name": "stdout",
     "output_type": "stream",
     "text": [
      "Kyungsub Lee\n"
     ]
    }
   ],
   "source": [
    "print(name)"
   ]
  },
  {
   "cell_type": "markdown",
   "metadata": {},
   "source": [
    "### 예제"
   ]
  },
  {
   "cell_type": "code",
   "execution_count": 1,
   "metadata": {},
   "outputs": [
    {
     "name": "stdout",
     "output_type": "stream",
     "text": [
      "input your student number : 21720046\n"
     ]
    }
   ],
   "source": [
    "# 이 예제는 s21720046에 의해 제공되었다.\n",
    "number = input(\"input your student number : \")"
   ]
  },
  {
   "cell_type": "code",
   "execution_count": 2,
   "metadata": {},
   "outputs": [
    {
     "name": "stdout",
     "output_type": "stream",
     "text": [
      "21720046\n"
     ]
    }
   ],
   "source": [
    "print(number)"
   ]
  },
  {
   "cell_type": "markdown",
   "metadata": {},
   "source": [
    "### 부울(Boolean)형 (논리형)\n",
    "\n",
    "* ```True``` 혹은 ```False```로 구성된 자료형이다.\n",
    "* Boolean type의 변수는 프로그래밍에서 중요한 역할을 담당\n",
    "  * 조건에 따라 처리를 달리하는 프로그램을 작성할 때 유용\n"
   ]
  },
  {
   "cell_type": "code",
   "execution_count": 32,
   "metadata": {},
   "outputs": [
    {
     "data": {
      "text/plain": [
       "False"
      ]
     },
     "execution_count": 32,
     "metadata": {},
     "output_type": "execute_result"
    }
   ],
   "source": [
    "2 < 0.9"
   ]
  },
  {
   "cell_type": "code",
   "execution_count": 33,
   "metadata": {},
   "outputs": [
    {
     "data": {
      "text/plain": [
       "True"
      ]
     },
     "execution_count": 33,
     "metadata": {},
     "output_type": "execute_result"
    }
   ],
   "source": [
    "3 > -3"
   ]
  },
  {
   "cell_type": "markdown",
   "metadata": {},
   "source": [
    "물론 변수에 ```True``` 혹은 ```False```를 대입할 수 있다."
   ]
  },
  {
   "cell_type": "code",
   "execution_count": 34,
   "metadata": {},
   "outputs": [
    {
     "name": "stdout",
     "output_type": "stream",
     "text": [
      "True\n"
     ]
    }
   ],
   "source": [
    "# True의 값을 가지는 변수 a\n",
    "a = True\n",
    "print(a)"
   ]
  },
  {
   "cell_type": "code",
   "execution_count": 35,
   "metadata": {},
   "outputs": [
    {
     "name": "stdout",
     "output_type": "stream",
     "text": [
      "False\n"
     ]
    }
   ],
   "source": [
    "# False의 값을 가지는 변수 b\n",
    "b = False\n",
    "print(b)"
   ]
  },
  {
   "cell_type": "markdown",
   "metadata": {},
   "source": [
    "### 비교연산과 대입연산\n",
    "\n",
    "등호를 하나만 사용하는 경우 이를 대입연산자라 한다."
   ]
  },
  {
   "cell_type": "code",
   "execution_count": 36,
   "metadata": {},
   "outputs": [],
   "source": [
    "x = 5"
   ]
  },
  {
   "cell_type": "markdown",
   "metadata": {},
   "source": [
    "* ```x```라는 변수에 5라는 정수를 대입하였다.\n",
    "* 따라서 ```4=4```와 같은 문장은 잘못된 문장이다.\n",
    "  * 숫자 4에 4를 대입할 수 없음."
   ]
  },
  {
   "cell_type": "markdown",
   "metadata": {},
   "source": [
    "등호를 두 개를 연속해서 사용하는 경우는 비교연산이라 한다.\n",
    "\n",
    "아래 예제에서는 숫자 4와 숫자 4가 같은지 비교하고 있다. 당연히 같으므로 결과는 ```True```이다."
   ]
  },
  {
   "cell_type": "code",
   "execution_count": 37,
   "metadata": {},
   "outputs": [
    {
     "data": {
      "text/plain": [
       "True"
      ]
     },
     "execution_count": 37,
     "metadata": {},
     "output_type": "execute_result"
    }
   ],
   "source": [
    "4 == 4"
   ]
  },
  {
   "cell_type": "markdown",
   "metadata": {},
   "source": [
    "아래 예제에서는 \"Korea\"라는 문자열과 \"Japan\"이라는 문자열이 같은지 비교하고 있다. 당연히 다르므로 결과는 ```False```이다."
   ]
  },
  {
   "cell_type": "code",
   "execution_count": 38,
   "metadata": {},
   "outputs": [
    {
     "data": {
      "text/plain": [
       "False"
      ]
     },
     "execution_count": 38,
     "metadata": {},
     "output_type": "execute_result"
    }
   ],
   "source": [
    "\"Korea\" == \"Japan\""
   ]
  },
  {
   "cell_type": "markdown",
   "metadata": {},
   "source": [
    "아래 예제에서는 ```c```라는 변수에 ```False```라는 값을 대입한 후, 변수 ```c```의 내용과 값 ```False```가 같은지 비교하고 있다. 두 값이 같으므로 결과는 ```True```이다."
   ]
  },
  {
   "cell_type": "code",
   "execution_count": 39,
   "metadata": {},
   "outputs": [
    {
     "data": {
      "text/plain": [
       "True"
      ]
     },
     "execution_count": 39,
     "metadata": {},
     "output_type": "execute_result"
    }
   ],
   "source": [
    "c = False\n",
    "c == False"
   ]
  },
  {
   "cell_type": "markdown",
   "metadata": {},
   "source": [
    "```=```와 ```==```의 차이는 프로그램 초보자들이 빈번히 혼동하는 부분이다. 연습을 통해 잘 숙지하도록 한다."
   ]
  },
  {
   "cell_type": "markdown",
   "metadata": {},
   "source": [
    "### 대입연산 예제\n",
    "\n",
    "다음의 결과들을 순차적으로 생각해 보자. 항상 오른쪽의 계산을 완료하여 왼쪽의 변수에 대입하도록 한다."
   ]
  },
  {
   "cell_type": "code",
   "execution_count": 40,
   "metadata": {},
   "outputs": [],
   "source": [
    "x = 2\n",
    "x = x + 4\n",
    "x = x * x\n",
    "x = x % 5"
   ]
  },
  {
   "cell_type": "code",
   "execution_count": 41,
   "metadata": {},
   "outputs": [
    {
     "name": "stdout",
     "output_type": "stream",
     "text": [
      "1\n"
     ]
    }
   ],
   "source": [
    "print(x)"
   ]
  },
  {
   "cell_type": "markdown",
   "metadata": {},
   "source": [
    "### 비교연산\n",
    "\n",
    "비교연산의 종류\n",
    "\n",
    "\n",
    "비교연산자  |대응되는 수학기호\n",
    "----------|--------------\n",
    "> | $>$\n",
    ">= | $\\geq$\n",
    "< | $<$\n",
    "<= | $\\leq$\n",
    "!= | $\\neq$\n",
    "== | $=$\n",
    "\n",
    "\n",
    "비교연산자를 사용한 식이 옳을 경우 ```True```를, 그렇지 않을 경우 ```False```를 반환한다."
   ]
  },
  {
   "cell_type": "code",
   "execution_count": 42,
   "metadata": {},
   "outputs": [],
   "source": [
    "egg = 138\n",
    "spam = 370"
   ]
  },
  {
   "cell_type": "code",
   "execution_count": 43,
   "metadata": {},
   "outputs": [
    {
     "data": {
      "text/plain": [
       "False"
      ]
     },
     "execution_count": 43,
     "metadata": {},
     "output_type": "execute_result"
    }
   ],
   "source": [
    "egg == spam"
   ]
  },
  {
   "cell_type": "code",
   "execution_count": 44,
   "metadata": {},
   "outputs": [
    {
     "data": {
      "text/plain": [
       "True"
      ]
     },
     "execution_count": 44,
     "metadata": {},
     "output_type": "execute_result"
    }
   ],
   "source": [
    "egg != spam"
   ]
  },
  {
   "cell_type": "code",
   "execution_count": 45,
   "metadata": {},
   "outputs": [
    {
     "data": {
      "text/plain": [
       "True"
      ]
     },
     "execution_count": 45,
     "metadata": {},
     "output_type": "execute_result"
    }
   ],
   "source": [
    "name = 'Kim'\n",
    "name != 'Lee'"
   ]
  },
  {
   "cell_type": "markdown",
   "metadata": {},
   "source": [
    "### 복합대입연산자\n",
    "\n",
    "연산과 대입을 동시에 할 수 있음. 다음의 코드에서\n",
    "* ```i += 3``` 는 ```i = i + 3``` 과 같고\n",
    "* ```j -= 0.5``` 은 ```j = j - 0.5``` 과 같다.\n"
   ]
  },
  {
   "cell_type": "code",
   "execution_count": 46,
   "metadata": {},
   "outputs": [
    {
     "data": {
      "text/plain": [
       "4"
      ]
     },
     "execution_count": 46,
     "metadata": {},
     "output_type": "execute_result"
    }
   ],
   "source": [
    "i = 1\n",
    "i += 3  # i = i + 3\n",
    "i"
   ]
  },
  {
   "cell_type": "code",
   "execution_count": 47,
   "metadata": {},
   "outputs": [
    {
     "data": {
      "text/plain": [
       "9.5"
      ]
     },
     "execution_count": 47,
     "metadata": {},
     "output_type": "execute_result"
    }
   ],
   "source": [
    "j = 10\n",
    "j -= 0.5  # j = j - 0.5\n",
    "j"
   ]
  },
  {
   "cell_type": "markdown",
   "metadata": {},
   "source": [
    "### 주석(comment)\n",
    "\n",
    "* 주석은 코드를 실행시켰을 때, 실행되지 않는 부분을 말하며\n",
    "* 코드에 설명을 넣고 싶을 때 보통 이용한다.\n",
    "* 한 줄로 주석 넣기, #으로 시작\n",
    "  * ```# This code solves the P vs NP problem.```\n",
    "* 여러 줄에 걸쳐 주석을 넣을 때, ```\"\"\"```를 이용\n",
    "  * ```\n",
    "    \"\"\"  \n",
    "    Turing used this code to crack the Enigma.  \n",
    "    With this code, anybody can hack a server like a pro.  \n",
    "    \"\"\"\n",
    "    ```\n"
   ]
  },
  {
   "cell_type": "markdown",
   "metadata": {},
   "source": [
    "### 문자열(string)\n",
    "\n",
    "* 문자열은 문자들로 이루어진 단어나 문장 등을 의미한다.\n",
    "\n",
    "* 파이썬에서는 문자열(string)을 쉽게 다룰 수 있다.\n",
    "\n",
    "* 앞에서 설명하였듯이, 문자열을 표현할 때는 큰 따옴표나 작은 따옴표를 이용한다."
   ]
  },
  {
   "cell_type": "code",
   "execution_count": 48,
   "metadata": {},
   "outputs": [],
   "source": [
    "name = \"Kyungsub Lee\""
   ]
  },
  {
   "cell_type": "code",
   "execution_count": 49,
   "metadata": {},
   "outputs": [
    {
     "name": "stdout",
     "output_type": "stream",
     "text": [
      "Kyungsub Lee\n"
     ]
    }
   ],
   "source": [
    "print(name)"
   ]
  },
  {
   "cell_type": "markdown",
   "metadata": {},
   "source": [
    "다음은 숫자 45가 아니라 문자열로서 \"45\"로 사용되었음을 유의"
   ]
  },
  {
   "cell_type": "code",
   "execution_count": 50,
   "metadata": {},
   "outputs": [],
   "source": [
    "age = \"45\""
   ]
  },
  {
   "cell_type": "code",
   "execution_count": 51,
   "metadata": {},
   "outputs": [
    {
     "name": "stdout",
     "output_type": "stream",
     "text": [
      "45\n"
     ]
    }
   ],
   "source": [
    "print(age)"
   ]
  },
  {
   "cell_type": "markdown",
   "metadata": {},
   "source": [
    "긴 문자열을 입력할 때는 다음과 같이 사용하기도 한다."
   ]
  },
  {
   "cell_type": "code",
   "execution_count": 52,
   "metadata": {},
   "outputs": [],
   "source": [
    "long_string = '''\n",
    "It was the best of times, it was the worst of times, \n",
    "it was the age of wisdom, it was the age of foolishness, \n",
    "it was the epoch of belief, it was the epoch of incredulity, \n",
    "it was the season of Light, it was the season of Darkness, \n",
    "it was the spring of hope, it was the winter of despair, \n",
    "we had everything before us, we had nothing before us, \n",
    "we were all going direct to Heaven, we were all going direct the other way - \n",
    "in short, the period was so far like the present period, \n",
    "that some of its noisiest authorities insisted on its being received, \n",
    "for good or for evil, in the superlative degree of comparison only.\n",
    "\n",
    "Tale of Two Cities\n",
    "by Charles Dickens\n",
    "'''"
   ]
  },
  {
   "cell_type": "markdown",
   "metadata": {},
   "source": [
    "### 문자열 연결 (concatenation)\n",
    "\n",
    "Python에서 문자열은 ```+``` 기호를 이용하여 쉽게 연결할 수 있다.\n",
    "* 다음은 이름 \"Kyungsub\"과 공백 글자 \" \", 성 \"Lee\"을 연결하여 출력하는 예제이다."
   ]
  },
  {
   "cell_type": "code",
   "execution_count": 53,
   "metadata": {},
   "outputs": [
    {
     "name": "stdout",
     "output_type": "stream",
     "text": [
      "Kyungsub Lee\n"
     ]
    }
   ],
   "source": [
    "first_name = \"Kyungsub\"\n",
    "family_name = \"Lee\"\n",
    "full_name = first_name + \" \" + family_name\n",
    "print(full_name)"
   ]
  },
  {
   "cell_type": "markdown",
   "metadata": {},
   "source": [
    "숫자형 값을 같이 연결하고 싶을 경우 ```str```이라는 함수를 이용하여 문자열로 변경 후 연결하면 편리하다."
   ]
  },
  {
   "cell_type": "code",
   "execution_count": 54,
   "metadata": {},
   "outputs": [
    {
     "name": "stdout",
     "output_type": "stream",
     "text": [
      "My age is 20.\n"
     ]
    }
   ],
   "source": [
    "print(\"My age is \" + str(20) + \".\")"
   ]
  },
  {
   "cell_type": "code",
   "execution_count": 55,
   "metadata": {},
   "outputs": [
    {
     "name": "stdout",
     "output_type": "stream",
     "text": [
      "My age is 20.\n"
     ]
    }
   ],
   "source": [
    "print(\"My age is \" + \"20\" + \".\")"
   ]
  },
  {
   "cell_type": "code",
   "execution_count": 56,
   "metadata": {},
   "outputs": [
    {
     "ename": "TypeError",
     "evalue": "must be str, not int",
     "output_type": "error",
     "traceback": [
      "\u001b[1;31m---------------------------------------------------------------------------\u001b[0m",
      "\u001b[1;31mTypeError\u001b[0m                                 Traceback (most recent call last)",
      "\u001b[1;32m<ipython-input-56-340b4e5cdeaa>\u001b[0m in \u001b[0;36m<module>\u001b[1;34m()\u001b[0m\n\u001b[0;32m      1\u001b[0m \u001b[1;31m# 숫자를 문자열로 변경하지 않고 연결하였기 때문에 에러가 발생하는 코드이다.\u001b[0m\u001b[1;33m\u001b[0m\u001b[1;33m\u001b[0m\u001b[0m\n\u001b[1;32m----> 2\u001b[1;33m \u001b[0mprint\u001b[0m\u001b[1;33m(\u001b[0m\u001b[1;34m\"My age is \"\u001b[0m \u001b[1;33m+\u001b[0m \u001b[1;36m20\u001b[0m \u001b[1;33m+\u001b[0m \u001b[1;34m\".\"\u001b[0m\u001b[1;33m)\u001b[0m\u001b[1;33m\u001b[0m\u001b[0m\n\u001b[0m",
      "\u001b[1;31mTypeError\u001b[0m: must be str, not int"
     ]
    }
   ],
   "source": [
    "# 숫자를 문자열로 변경하지 않고 연결하였기 때문에 에러가 발생하는 코드이다.\n",
    "print(\"My age is \" + 20 + \".\")"
   ]
  },
  {
   "cell_type": "code",
   "execution_count": 57,
   "metadata": {},
   "outputs": [
    {
     "name": "stdout",
     "output_type": "stream",
     "text": [
      "My age is 20.\n"
     ]
    }
   ],
   "source": [
    "# 비슷한 예제\n",
    "age = 20\n",
    "print(\"My age is \" + str(age) + \".\")"
   ]
  },
  {
   "cell_type": "markdown",
   "metadata": {},
   "source": [
    "### 문자열 관련 예제\n",
    "\n",
    "다음의 결과를 테스트해 보자."
   ]
  },
  {
   "cell_type": "code",
   "execution_count": 58,
   "metadata": {},
   "outputs": [
    {
     "data": {
      "text/plain": [
       "'abcde'"
      ]
     },
     "execution_count": 58,
     "metadata": {},
     "output_type": "execute_result"
    }
   ],
   "source": [
    "'a' + 'bcde'"
   ]
  },
  {
   "cell_type": "code",
   "execution_count": 59,
   "metadata": {},
   "outputs": [
    {
     "data": {
      "text/plain": [
       "'abcabcabcabcabc'"
      ]
     },
     "execution_count": 59,
     "metadata": {},
     "output_type": "execute_result"
    }
   ],
   "source": [
    "5 * 'abc'"
   ]
  },
  {
   "cell_type": "code",
   "execution_count": 60,
   "metadata": {
    "scrolled": true
   },
   "outputs": [
    {
     "ename": "TypeError",
     "evalue": "unsupported operand type(s) for +: 'int' and 'str'",
     "output_type": "error",
     "traceback": [
      "\u001b[1;31m---------------------------------------------------------------------------\u001b[0m",
      "\u001b[1;31mTypeError\u001b[0m                                 Traceback (most recent call last)",
      "\u001b[1;32m<ipython-input-60-3b9786c72eb4>\u001b[0m in \u001b[0;36m<module>\u001b[1;34m()\u001b[0m\n\u001b[1;32m----> 1\u001b[1;33m \u001b[1;36m3\u001b[0m \u001b[1;33m+\u001b[0m \u001b[1;34m'three'\u001b[0m\u001b[1;33m\u001b[0m\u001b[0m\n\u001b[0m",
      "\u001b[1;31mTypeError\u001b[0m: unsupported operand type(s) for +: 'int' and 'str'"
     ]
    }
   ],
   "source": [
    "3 + 'three'"
   ]
  },
  {
   "cell_type": "code",
   "execution_count": 61,
   "metadata": {
    "scrolled": true
   },
   "outputs": [
    {
     "ename": "TypeError",
     "evalue": "'<' not supported between instances of 'str' and 'int'",
     "output_type": "error",
     "traceback": [
      "\u001b[1;31m---------------------------------------------------------------------------\u001b[0m",
      "\u001b[1;31mTypeError\u001b[0m                                 Traceback (most recent call last)",
      "\u001b[1;32m<ipython-input-61-5e7599499276>\u001b[0m in \u001b[0;36m<module>\u001b[1;34m()\u001b[0m\n\u001b[1;32m----> 1\u001b[1;33m \u001b[1;34m'a'\u001b[0m \u001b[1;33m<\u001b[0m \u001b[1;36m3\u001b[0m\u001b[1;33m\u001b[0m\u001b[0m\n\u001b[0m",
      "\u001b[1;31mTypeError\u001b[0m: '<' not supported between instances of 'str' and 'int'"
     ]
    }
   ],
   "source": [
    "'a' < 3"
   ]
  },
  {
   "cell_type": "code",
   "execution_count": 62,
   "metadata": {},
   "outputs": [
    {
     "ename": "TypeError",
     "evalue": "'>' not supported between instances of 'str' and 'int'",
     "output_type": "error",
     "traceback": [
      "\u001b[1;31m---------------------------------------------------------------------------\u001b[0m",
      "\u001b[1;31mTypeError\u001b[0m                                 Traceback (most recent call last)",
      "\u001b[1;32m<ipython-input-62-2c90c6ecfb90>\u001b[0m in \u001b[0;36m<module>\u001b[1;34m()\u001b[0m\n\u001b[1;32m----> 1\u001b[1;33m \u001b[1;34m'3'\u001b[0m \u001b[1;33m>\u001b[0m \u001b[1;36m3\u001b[0m\u001b[1;33m\u001b[0m\u001b[0m\n\u001b[0m",
      "\u001b[1;31mTypeError\u001b[0m: '>' not supported between instances of 'str' and 'int'"
     ]
    }
   ],
   "source": [
    "'3' > 3"
   ]
  },
  {
   "cell_type": "markdown",
   "metadata": {},
   "source": [
    "### 연산자 오버로딩(overloading)\n",
    "\n",
    "* 더하기(+) 기호는 연산되는 변수의 타입에 따라 다르게 작동한다.\n",
    "  * 3 + 4 : 덧셈\n",
    "  * \"ab\" + \"cd\" : 문자열 연결"
   ]
  },
  {
   "cell_type": "code",
   "execution_count": 63,
   "metadata": {},
   "outputs": [
    {
     "data": {
      "text/plain": [
       "7"
      ]
     },
     "execution_count": 63,
     "metadata": {},
     "output_type": "execute_result"
    }
   ],
   "source": [
    "3 + 4"
   ]
  },
  {
   "cell_type": "code",
   "execution_count": 64,
   "metadata": {},
   "outputs": [
    {
     "data": {
      "text/plain": [
       "'abcd'"
      ]
     },
     "execution_count": 64,
     "metadata": {},
     "output_type": "execute_result"
    }
   ],
   "source": [
    "\"ab\" + \"cd\""
   ]
  },
  {
   "cell_type": "markdown",
   "metadata": {},
   "source": [
    "이를 연산자 overloading라고 한다."
   ]
  },
  {
   "cell_type": "markdown",
   "metadata": {},
   "source": [
    "### type checking"
   ]
  },
  {
   "cell_type": "code",
   "execution_count": 65,
   "metadata": {},
   "outputs": [
    {
     "ename": "TypeError",
     "evalue": "can't multiply sequence by non-int of type 'str'",
     "output_type": "error",
     "traceback": [
      "\u001b[1;31m---------------------------------------------------------------------------\u001b[0m",
      "\u001b[1;31mTypeError\u001b[0m                                 Traceback (most recent call last)",
      "\u001b[1;32m<ipython-input-65-f770e0284bd4>\u001b[0m in \u001b[0;36m<module>\u001b[1;34m()\u001b[0m\n\u001b[1;32m----> 1\u001b[1;33m \u001b[1;34m'a'\u001b[0m \u001b[1;33m*\u001b[0m \u001b[1;34m'a'\u001b[0m\u001b[1;33m\u001b[0m\u001b[0m\n\u001b[0m",
      "\u001b[1;31mTypeError\u001b[0m: can't multiply sequence by non-int of type 'str'"
     ]
    }
   ],
   "source": [
    "'a' * 'a'"
   ]
  },
  {
   "cell_type": "markdown",
   "metadata": {},
   "source": [
    "실수로  잘못 입력된 형태의 type을 찾아준다."
   ]
  },
  {
   "cell_type": "markdown",
   "metadata": {},
   "source": [
    "### 확장 문자(escaping character)\n",
    "\n",
    "문자열 중간에 따옴표 ' 기호를 넣고 싶을 때\n",
    "\n",
    "* 잘못된 예"
   ]
  },
  {
   "cell_type": "code",
   "execution_count": 66,
   "metadata": {},
   "outputs": [
    {
     "ename": "SyntaxError",
     "evalue": "invalid syntax (<ipython-input-66-712ccfb24280>, line 1)",
     "output_type": "error",
     "traceback": [
      "\u001b[1;36m  File \u001b[1;32m\"<ipython-input-66-712ccfb24280>\"\u001b[1;36m, line \u001b[1;32m1\u001b[0m\n\u001b[1;33m    'This isn't flying, this is falling with style!'\u001b[0m\n\u001b[1;37m              ^\u001b[0m\n\u001b[1;31mSyntaxError\u001b[0m\u001b[1;31m:\u001b[0m invalid syntax\n"
     ]
    }
   ],
   "source": [
    "'This isn't flying, this is falling with style!'"
   ]
  },
  {
   "cell_type": "markdown",
   "metadata": {},
   "source": [
    "* 올바른 예 : backslash ```\\```를 삽입하여 문자열 내의 따옴표 사용임을 알림"
   ]
  },
  {
   "cell_type": "code",
   "execution_count": 67,
   "metadata": {},
   "outputs": [
    {
     "data": {
      "text/plain": [
       "\"This isn't flying, this is falling with style!\""
      ]
     },
     "execution_count": 67,
     "metadata": {},
     "output_type": "execute_result"
    }
   ],
   "source": [
    "'This isn\\'t flying, this is falling with style!'"
   ]
  },
  {
   "cell_type": "markdown",
   "metadata": {},
   "source": [
    "```\\\"``` : 큰 따옴표  \n",
    "```\\\\``` : backslash(\\\\)"
   ]
  },
  {
   "cell_type": "code",
   "execution_count": 68,
   "metadata": {},
   "outputs": [
    {
     "name": "stdout",
     "output_type": "stream",
     "text": [
      "\"\n"
     ]
    }
   ],
   "source": [
    "print('\\\"')"
   ]
  },
  {
   "cell_type": "code",
   "execution_count": 69,
   "metadata": {},
   "outputs": [
    {
     "name": "stdout",
     "output_type": "stream",
     "text": [
      "\\\n"
     ]
    }
   ],
   "source": [
    "print('\\\\')"
   ]
  },
  {
   "cell_type": "markdown",
   "metadata": {},
   "source": [
    "### 인덱스를 통한 특정 문자 접근\n",
    "\n",
    "* 인덱스를 통하여 문자열의 특정 문자에 쉽게 접근\n",
    "* 첫 번째 문자의 인덱스는 0부터 시작함 (1이 아님)\n"
   ]
  },
  {
   "cell_type": "code",
   "execution_count": 70,
   "metadata": {},
   "outputs": [
    {
     "name": "stdout",
     "output_type": "stream",
     "text": [
      "u\n"
     ]
    }
   ],
   "source": [
    "first_letter = \"uncopywritable\"[0]\n",
    "print(first_letter)"
   ]
  },
  {
   "cell_type": "code",
   "execution_count": 71,
   "metadata": {},
   "outputs": [
    {
     "name": "stdout",
     "output_type": "stream",
     "text": [
      "n\n"
     ]
    }
   ],
   "source": [
    "my_word = \"uncopywritable\"\n",
    "second_letter = my_word[1]\n",
    "print(second_letter)"
   ]
  },
  {
   "cell_type": "code",
   "execution_count": 72,
   "metadata": {},
   "outputs": [
    {
     "name": "stdout",
     "output_type": "stream",
     "text": [
      "c\n"
     ]
    }
   ],
   "source": [
    "i = 2\n",
    "third_letter = my_word[i]\n",
    "print(third_letter)"
   ]
  },
  {
   "cell_type": "code",
   "execution_count": 73,
   "metadata": {},
   "outputs": [
    {
     "name": "stdout",
     "output_type": "stream",
     "text": [
      "o\n"
     ]
    }
   ],
   "source": [
    "fourth_letter = my_word[i + 1]\n",
    "print(fourth_letter)"
   ]
  },
  {
   "cell_type": "markdown",
   "metadata": {},
   "source": [
    "### 문자열 관련 함수와 method\n",
    "\n",
    "#### ```len()```  \n",
    "  * python에 미리 만들어진 built-in 함수로 문자열이나 리스트의 길이를 구할 때 사용\n"
   ]
  },
  {
   "cell_type": "code",
   "execution_count": 74,
   "metadata": {},
   "outputs": [
    {
     "data": {
      "text/plain": [
       "6"
      ]
     },
     "execution_count": 74,
     "metadata": {},
     "output_type": "execute_result"
    }
   ],
   "source": [
    "my_name = \"KS Lee\"\n",
    "len(my_name)"
   ]
  },
  {
   "cell_type": "markdown",
   "metadata": {},
   "source": [
    "* ```lower()```, ```upper()```\n",
    "  * 소문자 혹은 대문자로 바꾸어주는 method\n",
    "  * 문자열 뒤에 마침표(.)와 함께 사용\n",
    "    * ```lower()```, ```upper()``` 등은 생성한 문자열에 종속된 method로써 python에서 제공함\n",
    "  * 변수에 저장된 문자열과 따옴표로 표현된 문자열 모두에 method를 적용할 수 있다."
   ]
  },
  {
   "cell_type": "code",
   "execution_count": 75,
   "metadata": {},
   "outputs": [
    {
     "data": {
      "text/plain": [
       "'egg'"
      ]
     },
     "execution_count": 75,
     "metadata": {},
     "output_type": "execute_result"
    }
   ],
   "source": [
    "\"EGG\".lower()"
   ]
  },
  {
   "cell_type": "code",
   "execution_count": 76,
   "metadata": {},
   "outputs": [
    {
     "data": {
      "text/plain": [
       "'SPAM_EGG'"
      ]
     },
     "execution_count": 76,
     "metadata": {},
     "output_type": "execute_result"
    }
   ],
   "source": [
    "my_string = \"spam_egg\"\n",
    "my_string.upper()"
   ]
  },
  {
   "cell_type": "markdown",
   "metadata": {},
   "source": [
    "#### ```str()```\n",
    "  * 다른 데이터형을 문자열로 바꾸기"
   ]
  },
  {
   "cell_type": "code",
   "execution_count": 77,
   "metadata": {},
   "outputs": [],
   "source": [
    "this_year = 2016"
   ]
  },
  {
   "cell_type": "markdown",
   "metadata": {},
   "source": [
    "  * ```this_year```는 2016이라는 값을 지닌 정수형 데이터\n",
    "  * 이를 정수가 아닌 문자열로 바꾸고 싶을 때"
   ]
  },
  {
   "cell_type": "code",
   "execution_count": 78,
   "metadata": {},
   "outputs": [],
   "source": [
    "this_year_string = str(this_year)"
   ]
  },
  {
   "cell_type": "markdown",
   "metadata": {},
   "source": [
    "  * ```this_year = 2016```이고 ```this_year_string = \"2016\"```으로 데이터형이 다름에 주의\n",
    "  * 다음의 값이 무엇이 나올지 살펴 보자."
   ]
  },
  {
   "cell_type": "code",
   "execution_count": 79,
   "metadata": {},
   "outputs": [
    {
     "data": {
      "text/plain": [
       "4032"
      ]
     },
     "execution_count": 79,
     "metadata": {},
     "output_type": "execute_result"
    }
   ],
   "source": [
    "this_year + this_year"
   ]
  },
  {
   "cell_type": "code",
   "execution_count": 80,
   "metadata": {},
   "outputs": [
    {
     "data": {
      "text/plain": [
       "'20162016'"
      ]
     },
     "execution_count": 80,
     "metadata": {},
     "output_type": "execute_result"
    }
   ],
   "source": [
    "this_year_string + this_year_string"
   ]
  },
  {
   "cell_type": "markdown",
   "metadata": {},
   "source": [
    "#### Method와 Function(함수)\n",
    "\n",
    "* Python에 내장된 많은 method와 function들은 다양한 기능을 제공한다.\n",
    "  * method와 function은 일부 다른 특징이 있지만, 근본적인 작동 원리는 비슷하다.\n",
    "\n",
    "* ```lower()```와 ```upper()``` 등의 method는 dot(.)을 이용하며 특정 객체(object), 여기서는 특정 문자열(string)에 종속되어 있다고 한다.\n",
    "\n",
    "* ```str()```, ```len()``` 등은 dot(.)을 이용하지 않으며, 이는 특정 객체에 종속되어 있지 않음을 의미힌다. \n",
    " *  괄호 안에 인자로서 여러 형태의 데이터형이 올 수 있음\n",
    " \n",
    "* 함수에 대해서는 나중에 자세히 다루도록 한다."
   ]
  },
  {
   "cell_type": "markdown",
   "metadata": {},
   "source": [
    "#### ```endswith()```와 ```startswith()```\n",
    "\n",
    "이름을 통해 이 두 method의 기능을 추측해 보자."
   ]
  },
  {
   "cell_type": "code",
   "execution_count": 81,
   "metadata": {},
   "outputs": [
    {
     "data": {
      "text/plain": [
       "True"
      ]
     },
     "execution_count": 81,
     "metadata": {},
     "output_type": "execute_result"
    }
   ],
   "source": [
    "'March2019.csv'.endswith('.csv')"
   ]
  },
  {
   "cell_type": "code",
   "execution_count": 82,
   "metadata": {},
   "outputs": [
    {
     "data": {
      "text/plain": [
       "True"
      ]
     },
     "execution_count": 82,
     "metadata": {},
     "output_type": "execute_result"
    }
   ],
   "source": [
    "'March2019.csv'.endswith('sv')"
   ]
  },
  {
   "cell_type": "code",
   "execution_count": 83,
   "metadata": {},
   "outputs": [
    {
     "data": {
      "text/plain": [
       "False"
      ]
     },
     "execution_count": 83,
     "metadata": {},
     "output_type": "execute_result"
    }
   ],
   "source": [
    "'March2019.csv'.endswith('abc')"
   ]
  },
  {
   "cell_type": "code",
   "execution_count": 84,
   "metadata": {},
   "outputs": [
    {
     "data": {
      "text/plain": [
       "True"
      ]
     },
     "execution_count": 84,
     "metadata": {},
     "output_type": "execute_result"
    }
   ],
   "source": [
    "'March2019.ppt'.startswith('March')"
   ]
  },
  {
   "cell_type": "code",
   "execution_count": 85,
   "metadata": {},
   "outputs": [
    {
     "data": {
      "text/plain": [
       "False"
      ]
     },
     "execution_count": 85,
     "metadata": {},
     "output_type": "execute_result"
    }
   ],
   "source": [
    "'March2019.ppt'.startswith('march')"
   ]
  },
  {
   "cell_type": "markdown",
   "metadata": {},
   "source": [
    "### 즉, endswitch는 ()안에 끝나는 문자나 그 문자를 포함한 문자열이 들어가면 true, 들어가지 않으면 false > 즉 ~()끝나느냐?로 볼수있고 startswitch는 반대로 ()안에 처음의 문자나 처음의 문자를 포함한 문자열이 들어가면 true, 들어가지 않으면 false >즉 ~()시작하느냐?로 볼수있다."
   ]
  },
  {
   "cell_type": "markdown",
   "metadata": {},
   "source": [
    "#### ```strip()```\n",
    "* 문자열 앞, 뒤의 빈 공간(white space)을 제거"
   ]
  },
  {
   "cell_type": "code",
   "execution_count": 86,
   "metadata": {},
   "outputs": [
    {
     "data": {
      "text/plain": [
       "'Introduction to Python'"
      ]
     },
     "execution_count": 86,
     "metadata": {},
     "output_type": "execute_result"
    }
   ],
   "source": [
    "\" Introduction to Python    \".strip()"
   ]
  },
  {
   "cell_type": "markdown",
   "metadata": {},
   "source": [
    "#### split()\n",
    "* 문자열을 공백 혹은 주어진 규칙을 바탕으로 분리하여 리스트로 반환한다.\n",
    "  * 리스트에 대해서는 추후 공부할 예정"
   ]
  },
  {
   "cell_type": "code",
   "execution_count": 87,
   "metadata": {},
   "outputs": [
    {
     "data": {
      "text/plain": [
       "['How', 'are', 'you?', 'I', 'am', 'fine,', 'and', 'you?']"
      ]
     },
     "execution_count": 87,
     "metadata": {},
     "output_type": "execute_result"
    }
   ],
   "source": [
    "\"How are you? I am fine, and you?\".split()"
   ]
  },
  {
   "cell_type": "code",
   "execution_count": 88,
   "metadata": {},
   "outputs": [
    {
     "data": {
      "text/plain": [
       "['Split', 'this', 'string', 'please']"
      ]
     },
     "execution_count": 88,
     "metadata": {},
     "output_type": "execute_result"
    }
   ],
   "source": [
    "\"Split_this_string_please\".split(\"_\")"
   ]
  },
  {
   "cell_type": "markdown",
   "metadata": {},
   "source": [
    "### %s를 이용한 문자열 출력"
   ]
  },
  {
   "cell_type": "code",
   "execution_count": 89,
   "metadata": {},
   "outputs": [
    {
     "name": "stdout",
     "output_type": "stream",
     "text": [
      "My name is Tom and I am from New York.\n"
     ]
    }
   ],
   "source": [
    "name = \"Tom\"\n",
    "home = \"New York\"\n",
    "print(\"My name is %s and I am from %s.\" %(name, home))"
   ]
  },
  {
   "cell_type": "markdown",
   "metadata": {},
   "source": [
    "<img src=\"./figure/print.png\" width=\"450\">"
   ]
  },
  {
   "cell_type": "markdown",
   "metadata": {},
   "source": [
    "### 문자열 입력 - 다시 살펴보기\n",
    "\n",
    "Python 3.x 에서는 input 함수를 이용하여 문자열을 입력받는다.  \n",
    "input()의 괄호 안에는 문자열 입력 전 화면에 보여주고 싶은 문장을 입력한다."
   ]
  },
  {
   "cell_type": "code",
   "execution_count": 90,
   "metadata": {},
   "outputs": [
    {
     "name": "stdout",
     "output_type": "stream",
     "text": [
      "Enter your name: Kyungsub Lee\n"
     ]
    }
   ],
   "source": [
    "name = input('Enter your name: ')"
   ]
  },
  {
   "cell_type": "code",
   "execution_count": 91,
   "metadata": {},
   "outputs": [
    {
     "name": "stdout",
     "output_type": "stream",
     "text": [
      "Are you really Kyungsub Lee?\n"
     ]
    }
   ],
   "source": [
    "print('Are you really ' + name + '?')"
   ]
  },
  {
   "cell_type": "markdown",
   "metadata": {},
   "source": [
    "### 입력 받은 문자열 type 변경\n",
    "\n",
    "만약 입력 받은 문자열을 숫자로 활용하고자 하면 ```int()```나 ```float()``` 함수를 이용하여 type을 변경"
   ]
  },
  {
   "cell_type": "code",
   "execution_count": 92,
   "metadata": {},
   "outputs": [
    {
     "name": "stdout",
     "output_type": "stream",
     "text": [
      "Input any number: 1.1\n"
     ]
    }
   ],
   "source": [
    "num = input('Input any number: ')"
   ]
  },
  {
   "cell_type": "markdown",
   "metadata": {},
   "source": [
    "* num은 문자열이지만 ```float(num)```을 통해서 실수로, 혹은 ```int(num)```을 통해서 정수로 바꿀 수 있다.\n",
    "* 숫자형을 변경할 경우 각종 사칙연산 등에 활용할 수 있다."
   ]
  },
  {
   "cell_type": "code",
   "execution_count": null,
   "metadata": {
    "scrolled": true
   },
   "outputs": [],
   "source": [
    "sqr = float(num) * float(num)\n",
    "print('The square of num ' + num + ' is ' + str(sqr))"
   ]
  },
  {
   "cell_type": "markdown",
   "metadata": {},
   "source": [
    "## 예제 : 거스름돈 계산하기\n",
    "\n",
    "돈을 냈을 때, 물건 값을 입력받고 각 화폐별로 받아야 할 거스름돈을 계산해주는 프로그램.\n",
    "\n"
   ]
  },
  {
   "cell_type": "code",
   "execution_count": 12,
   "metadata": {},
   "outputs": [
    {
     "name": "stdout",
     "output_type": "stream",
     "text": [
      "물건 값 : 3200\n",
      "내는 돈 : 10000\n",
      "오천원 1장\n",
      "천원 1장\n",
      "오백원 1개\n",
      "백원 3개\n"
     ]
    }
   ],
   "source": [
    "price = input(\"물건 값 : \")\n",
    "money = input(\"내는 돈 : \")\n",
    "\n",
    "change = int(money) - int(price)\n",
    "\n",
    "c_5000 = change // 5000\n",
    "change = change % 5000\n",
    "\n",
    "c_1000 = change // 1000\n",
    "change = change % 1000\n",
    "\n",
    "c_500 = change // 500\n",
    "change = change % 500\n",
    "\n",
    "c_100 = change // 100\n",
    "change = change % 100\n",
    "\n",
    "print(\"오천원 \" + str(c_5000) + \"장\")\n",
    "print(\"천원 \" + str(c_1000) + \"장\")\n",
    "print(\"오백원 \" + str(c_500) + \"개\")\n",
    "print(\"백원 \" + str(c_100) + \"개\")"
   ]
  }
 ],
 "metadata": {
  "kernelspec": {
   "display_name": "Python 3",
   "language": "python",
   "name": "python3"
  },
  "language_info": {
   "codemirror_mode": {
    "name": "ipython",
    "version": 3
   },
   "file_extension": ".py",
   "mimetype": "text/x-python",
   "name": "python",
   "nbconvert_exporter": "python",
   "pygments_lexer": "ipython3",
   "version": "3.6.8"
  }
 },
 "nbformat": 4,
 "nbformat_minor": 1
}
